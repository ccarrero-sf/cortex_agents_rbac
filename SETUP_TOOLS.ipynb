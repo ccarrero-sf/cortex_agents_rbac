{
 "metadata": {
  "kernelspec": {
   "display_name": "Streamlit Notebook",
   "name": "streamlit"
  },
  "lastEditStatus": {
   "notebookId": "wbpbqhxypepo3mn35dzt",
   "authorId": "3819294176000",
   "authorName": "CCARRERO",
   "authorEmail": "carlos.carrero@snowflake.com",
   "sessionId": "e8055959-0a0b-4521-bc26-8fe38a51c1ba",
   "lastEditTime": 1754650311139
  }
 },
 "nbformat_minor": 5,
 "nbformat": 4,
 "cells": [
  {
   "cell_type": "markdown",
   "id": "abc268cb-99b6-43a2-9c6a-c1463291ee3a",
   "metadata": {
    "collapsed": false,
    "name": "Start"
   },
   "source": [
    "# Setup Tools for Sales Assistant Agent\n",
    "We are going to setup all the tools that will be used by the Agent"
   ]
  },
  {
   "cell_type": "code",
   "execution_count": null,
   "id": "3775908f-ca36-4846-8f38-5adca39217f2",
   "metadata": {
    "language": "python",
    "name": "Connect"
   },
   "outputs": [],
   "source": [
    "# Import python packages\n",
    "import streamlit as st\n",
    "import pandas as pd\n",
    "\n",
    "# We can also use Snowpark for our analyses!\n",
    "from snowflake.snowpark.context import get_active_session\n",
    "session = get_active_session()"
   ]
  },
  {
   "cell_type": "markdown",
   "id": "b8885f6b-2afe-4eee-b141-9e6f495e088d",
   "metadata": {
    "name": "cell3"
   },
   "source": ""
  },
  {
   "cell_type": "markdown",
   "id": "0554b86d-68eb-4aff-a554-c80f26136f39",
   "metadata": {
    "collapsed": false,
    "name": "cell5"
   },
   "source": "## Tools for Unstructured Data (Cortex Search)\nWe are going to setup a tool tha will help the agent to extract information from unstructured data. It will process PDF documents but also will be using IMAGE descriptions..The information is stored in PDF and JPEG format so first we are going to process it.\n\n### PDF Files\n\nWe are going to process the documents about bikes and ski"
  },
  {
   "cell_type": "code",
   "execution_count": null,
   "id": "8d50cbf4-0c8d-4950-86cb-114990437ac9",
   "metadata": {
    "language": "sql",
    "name": "check_bike_files"
   },
   "outputs": [],
   "source": "-- Check what documents are available\n\nSELECT * FROM DIRECTORY('@DOCS');"
  },
  {
   "cell_type": "markdown",
   "id": "78b90d93-69b4-4d6e-b9da-91afd1a2fddc",
   "metadata": {
    "collapsed": false,
    "name": "cell11"
   },
   "source": [
    "Read the PDF File"
   ]
  },
  {
   "cell_type": "code",
   "execution_count": null,
   "id": "c695373e-ac74-4b62-a1f1-08206cbd5c81",
   "metadata": {
    "language": "sql",
    "name": "parse_bikes_docs"
   },
   "outputs": [],
   "source": "CREATE OR REPLACE TEMPORARY TABLE RAW_TEXT AS\nSELECT \n    RELATIVE_PATH,\n    build_scoped_file_url(@docs, relative_path) as scoped_file_url,\n    TO_VARCHAR (\n        SNOWFLAKE.CORTEX.PARSE_DOCUMENT (\n            '@DOCS',\n            RELATIVE_PATH,\n            {'mode': 'LAYOUT'} ):content\n        ) AS EXTRACTED_LAYOUT \nFROM \n    DIRECTORY('@DOCS')\nWHERE\n    RELATIVE_PATH LIKE '%.pdf';"
  },
  {
   "cell_type": "markdown",
   "id": "846f0708-0958-4e5c-aa11-8b5a0ec2ceef",
   "metadata": {
    "name": "cell4",
    "collapsed": false
   },
   "source": "You can check the content"
  },
  {
   "cell_type": "code",
   "id": "3621c481-9b70-4d45-89f8-2d6d9e60827d",
   "metadata": {
    "language": "sql",
    "name": "cell6"
   },
   "outputs": [],
   "source": "select * from RAW_TEXT limit 5;",
   "execution_count": null
  },
  {
   "cell_type": "markdown",
   "id": "132582de-f23d-4f51-bbf9-44674d30592c",
   "metadata": {
    "name": "cell8",
    "collapsed": false
   },
   "source": "Create the table that will be used by Cortex Search Service as a Tool for Cortex Agents in order to retrieve information from PDF and JPEG files:"
  },
  {
   "cell_type": "code",
   "id": "17281011-347a-4333-86df-b2689a85a221",
   "metadata": {
    "language": "sql",
    "name": "cell9"
   },
   "outputs": [],
   "source": "create or replace TABLE DOCS_CHUNKS_TABLE ( \n    RELATIVE_PATH VARCHAR(16777216), -- Relative path to the PDF file\n    scoped_file_url VARCHAR(16777216),\n    CHUNK VARCHAR(16777216), -- Piece of text\n    CHUNK_INDEX INTEGER, -- Index for the text\n    USER_ROLE VARCHAR(16777216), -- Role that can access to this row\n    CATEGORY VARCHAR(16777216)\n\n);\n",
   "execution_count": null
  },
  {
   "cell_type": "markdown",
   "id": "d38c2af2-970d-4001-ab3f-c33271b3770a",
   "metadata": {
    "collapsed": false,
    "name": "cell12"
   },
   "source": [
    "Split the PDF file into pieces"
   ]
  },
  {
   "cell_type": "code",
   "execution_count": null,
   "id": "2040e105-5e88-4525-8eb1-a92fb40bf4a2",
   "metadata": {
    "language": "sql",
    "name": "split_bikes_docs"
   },
   "outputs": [],
   "source": "insert into DOCS_CHUNKS_TABLE (relative_path, scoped_file_url, chunk, chunk_index)\n\n    select relative_path, \n            scoped_file_url,\n            c.value::TEXT as chunk,\n            c.INDEX::INTEGER as chunk_index\n            \n    from \n        raw_text,\n        LATERAL FLATTEN( input => SNOWFLAKE.CORTEX.SPLIT_TEXT_RECURSIVE_CHARACTER (\n              EXTRACTED_LAYOUT,\n              'markdown',\n              1512,\n              256,\n              ['\\n\\n', '\\n', ' ', '']\n           )) c;"
  },
  {
   "cell_type": "markdown",
   "id": "c91eb46a-6257-4826-947d-636d280d46db",
   "metadata": {
    "collapsed": false,
    "name": "cell13"
   },
   "source": "\nCheck the content"
  },
  {
   "cell_type": "code",
   "execution_count": null,
   "id": "183043db-6148-4409-8bac-b1112d1b93d2",
   "metadata": {
    "language": "sql",
    "name": "create_bikes_rag_tool"
   },
   "outputs": [],
   "source": "SELECT * FROM DOCS_CHUNKS_TABLE limit 7;\n"
  },
  {
   "cell_type": "markdown",
   "id": "76428176-e27a-4a02-8439-024a09fd3d55",
   "metadata": {
    "name": "cell7",
    "collapsed": false
   },
   "source": "As a demo, we are goign to show how AI_CLASSIFY Cortex function to classify the document type. We have two classes, Bike and Snow, and we pass the document title and the first chunk of the document to the function"
  },
  {
   "cell_type": "code",
   "id": "babe24f7-4486-4d2a-b342-7dda8bce59ef",
   "metadata": {
    "language": "sql",
    "name": "cell10"
   },
   "outputs": [],
   "source": "CREATE OR REPLACE TEMPORARY TABLE docs_categories AS WITH unique_documents AS (\n  SELECT\n    DISTINCT relative_path, chunk\n  FROM\n    docs_chunks_table\n  WHERE \n    chunk_index = 0\n  ),\n docs_category_cte AS (\n  SELECT\n    relative_path,\n    TRIM(snowflake.cortex.AI_CLASSIFY (\n      'Title:' || relative_path || 'Content:' || chunk, ['Bike', 'Snow']\n     )['labels'][0], '\"') AS CATEGORY\n  FROM\n    unique_documents\n)\nSELECT\n  *\nFROM\n  docs_category_cte;",
   "execution_count": null
  },
  {
   "cell_type": "code",
   "id": "563deac8-2b50-4c0c-a712-f14eac57e094",
   "metadata": {
    "language": "sql",
    "name": "cell14"
   },
   "outputs": [],
   "source": "select * from docs_categories;\n",
   "execution_count": null
  },
  {
   "cell_type": "markdown",
   "id": "ff0cacd7-2e5a-4e8c-8f25-28f3ab9197f5",
   "metadata": {
    "name": "cell15",
    "collapsed": false
   },
   "source": "Update the table"
  },
  {
   "cell_type": "code",
   "id": "2f3cc3b6-8471-4af0-b562-67e6174eb565",
   "metadata": {
    "language": "sql",
    "name": "cell16"
   },
   "outputs": [],
   "source": "UPDATE docs_chunks_table dct\nSET\n    category = dc.category,\n    USER_ROLE = CASE\n                    WHEN dc.CATEGORY = 'Bike' THEN 'BIKE_ROLE'\n                    WHEN dc.CATEGORY = 'Snow' THEN 'SNOW_ROLE'\n                    ELSE NULL -- Or a default role if categories other than 'Bike' or 'Snow' are possible\n                END\nFROM\n    docs_categories dc\nWHERE\n    dct.relative_path = dc.relative_path;\n",
   "execution_count": null
  },
  {
   "cell_type": "code",
   "id": "04acac54-eac3-47c6-9390-b7c146321541",
   "metadata": {
    "language": "sql",
    "name": "cell27"
   },
   "outputs": [],
   "source": "select * from docs_chunks_table limit 15;",
   "execution_count": null
  },
  {
   "cell_type": "markdown",
   "id": "352527e8-4b98-4c08-8c01-c3758a9ca91e",
   "metadata": {
    "name": "cell18",
    "collapsed": false
   },
   "source": "### IMAGES\n\nNow let's process the images we have for our bikes and skies. We are going to use AI_COMPLETE and AI_CLASSIFY multi-modal function asking for an image description and classification. We add it into the DOCS_CHUNKS_TABLE where we also have the PDF documentation. For AI_COMPLETE for Multi-Modal we are proposing claude-3-7-sonnet, but you should check what is the availability in your [region]( https://docs.snowflake.com/en/sql-reference/functions/ai_complete-single-file). \n\nWe are goign to run the next cell first to enable [CROSS REGION INFERENCE](https://docs.snowflake.com/en/user-guide/snowflake-cortex/cross-region-inference). In our case, this is running within AWS_EU region and we want to keep it there. \n"
  },
  {
   "cell_type": "code",
   "id": "3d567e7d-54a8-4e6e-87f2-b75b7f2025c8",
   "metadata": {
    "language": "sql",
    "name": "cell52"
   },
   "outputs": [],
   "source": "ALTER ACCOUNT SET CORTEX_ENABLED_CROSS_REGION = 'AWS_EU';",
   "execution_count": null
  },
  {
   "cell_type": "code",
   "id": "1fe08185-7dc3-4227-b2f1-f6ee1697d714",
   "metadata": {
    "language": "sql",
    "name": "cell20"
   },
   "outputs": [],
   "source": "INSERT INTO DOCS_CHUNKS_TABLE (relative_path, scoped_file_url, chunk, chunk_index, category, USER_ROLE)\nWITH classified_docs AS (\n    SELECT\n        RELATIVE_PATH,\n        build_scoped_file_url(@docs, relative_path) as scoped_file_url,\n        CONCAT('This is a picture describing: ' || RELATIVE_PATH ||\n            ' .THIS IS THE DESCRIPTION: ' ||\n            SNOWFLAKE.CORTEX.AI_COMPLETE('claude-3-7-sonnet',\n            'This should be an image of a bike or snow gear. Provide all the detail that\n            you can. Try to extract colors, brand names, parts, etc: ',\n            TO_FILE('@DOCS', RELATIVE_PATH))) AS chunk,\n        0 AS chunk_index,\n        -- Calculate category once\n        SNOWFLAKE.CORTEX.AI_CLASSIFY(\n            TO_FILE('@DOCS', RELATIVE_PATH),\n            ['Bike', 'Snow']):labels[0] AS category\n    FROM\n        DIRECTORY('@DOCS')\n    WHERE\n        RELATIVE_PATH LIKE '%.jpeg'\n)\nSELECT\n    cd.relative_path,\n    cd.scoped_file_url,\n    cd.chunk,\n    cd.chunk_index,\n    cd.category,\n    -- Use the calculated category to derive USER_ROLE\n    CASE\n        WHEN cd.category LIKE '%Bike%' THEN 'BIKE_ROLE'\n        WHEN cd.category LIKE '%Snow%' THEN 'SNOW_ROLE'\n        ELSE NULL -- Or a default role if categories other than 'Bike' or 'Snow' are possible\n    END AS USER_ROLE\nFROM\n    classified_docs cd;\n",
   "execution_count": null
  },
  {
   "cell_type": "markdown",
   "id": "b89ec636-a18b-4135-bf0f-43acd7e75b09",
   "metadata": {
    "name": "cell21",
    "collapsed": false
   },
   "source": "You can check the descriptions:"
  },
  {
   "cell_type": "code",
   "id": "206862d8-ea66-456b-a297-b4750cd02971",
   "metadata": {
    "language": "sql",
    "name": "cell22"
   },
   "outputs": [],
   "source": "select * from DOCS_CHUNKS_TABLE\n    where RELATIVE_PATH LIKE '%.jpeg';",
   "execution_count": null
  },
  {
   "cell_type": "markdown",
   "id": "745edea7-1ff0-44af-83f6-44ecc6636741",
   "metadata": {
    "name": "cell53",
    "collapsed": false
   },
   "source": "At this point we should have only 2 roles. Check:"
  },
  {
   "cell_type": "code",
   "id": "337091df-5939-40b9-ad61-4413ce852c06",
   "metadata": {
    "language": "sql",
    "name": "cell30"
   },
   "outputs": [],
   "source": "select distinct(USER_ROLE) from DOCS_CHUNKS_TABLE;",
   "execution_count": null
  },
  {
   "cell_type": "markdown",
   "id": "56923bc1-9ae3-45d0-8e71-bc25db33e632",
   "metadata": {
    "name": "cell40",
    "collapsed": false
   },
   "source": "### Setup ROLES\n\nWe are going to have three different roles. One that can get access to only BIKE info, other to SNOW info and the third one that can access all"
  },
  {
   "cell_type": "code",
   "id": "3efa5324-dacd-4e8e-832a-a8ada6562fa8",
   "metadata": {
    "language": "sql",
    "name": "cell45"
   },
   "outputs": [],
   "source": "create role if not exists BIKE_ROLE;\ncreate role if not exists SNOW_ROLE;\ncreate role if not exists BIKE_SNOW_ROLE;\n\nGRANT ROLE BIKE_ROLE TO ROLE ACCOUNTADMIN;\nGRANT ROLE SNOW_ROLE TO ROLE ACCOUNTADMIN;\nGRANT ROLE BIKE_SNOW_ROLE TO ROLE ACCOUNTADMIN;\n\nCREATE USER IF NOT EXISTS bike_user PASSWORD = 'Password123!' DEFAULT_ROLE = BIKE_ROLE;\ngrant role BIKE_ROLE to user bike_user;\n\nCREATE USER IF NOT EXISTS snow_user PASSWORD = 'Password123!' DEFAULT_ROLE = SNOW_ROLE;\ngrant role SNOW_ROLE to user snow_user;\n\nCREATE USER IF NOT EXISTS all_user PASSWORD = 'Password123!' DEFAULT_ROLE = BIKE_SNOW_ROLE;\ngrant role BIKE_SNOW_ROLE to user all_user;",
   "execution_count": null
  },
  {
   "cell_type": "code",
   "id": "edcb0eac-7bb7-408b-99ee-42e39d589369",
   "metadata": {
    "language": "python",
    "name": "cell46"
   },
   "outputs": [],
   "source": "current_user = session.get_current_user()\n\nfor role in ['BIKE_ROLE', 'SNOW_ROLE', 'BIKE_SNOW_ROLE']:\n    session.sql(f'grant role {role} to user {current_user}').collect()",
   "execution_count": null
  },
  {
   "cell_type": "markdown",
   "id": "e1505035-726b-4447-b182-84a3707f015d",
   "metadata": {
    "name": "cell24",
    "collapsed": false
   },
   "source": "### Enable Cortex Search\n\nCortex Search is the Tool that will be used to retrieve context from unstructured data. Once we have processed all the content from PDF and IMAGES into the DOCS_CHUNK_TABLE, we just need to enable the service in that table. This will create the embeddings, indexing, etc automatically. "
  },
  {
   "cell_type": "code",
   "id": "4a2d90b8-2ad6-4470-9b65-64769fdbbfe0",
   "metadata": {
    "language": "sql",
    "name": "cell26"
   },
   "outputs": [],
   "source": "-- CREATE THE WH IF DOES NOT EXISTS\nCREATE WAREHOUSE IF NOT EXISTS COMPUTE_WH\nWAREHOUSE_SIZE = 'XSMALL';",
   "execution_count": null
  },
  {
   "cell_type": "code",
   "id": "77174449-fc9c-4551-9563-5f10930a5aa2",
   "metadata": {
    "language": "sql",
    "name": "cell25"
   },
   "outputs": [],
   "source": "create or replace CORTEX SEARCH SERVICE DOCUMENTATION_TOOL\nON chunk\nATTRIBUTES category, user_role\nwarehouse = COMPUTE_WH\nTARGET_LAG = '1 hour'\nEMBEDDING_MODEL = 'snowflake-arctic-embed-l-v2.0'\nas (\n    select chunk,\n        chunk_index,\n        relative_path,\n        scoped_file_url,\n        category,\n        user_role\n    from docs_chunks_table\n);",
   "execution_count": null
  },
  {
   "cell_type": "code",
   "id": "79008b0a-22b5-4606-a940-65903bcb91f3",
   "metadata": {
    "language": "sql",
    "name": "cell36"
   },
   "outputs": [],
   "source": "create or replace CORTEX SEARCH SERVICE DOCUMENTATION_TOOL_BIKES\nON chunk\nATTRIBUTES category, user_role\nwarehouse = COMPUTE_WH\nTARGET_LAG = '1 hour'\nEMBEDDING_MODEL = 'snowflake-arctic-embed-l-v2.0'\nas (\n    select chunk,\n        chunk_index,\n        relative_path,\n        scoped_file_url,\n        category,\n        user_role\n    from docs_chunks_table\n    where user_role = 'BIKE_ROLE'\n);",
   "execution_count": null
  },
  {
   "cell_type": "code",
   "id": "3b06ae30-ea72-412c-8a22-ac505fafd48f",
   "metadata": {
    "language": "sql",
    "name": "cell34"
   },
   "outputs": [],
   "source": "create or replace CORTEX SEARCH SERVICE DOCUMENTATION_TOOL_SNOW\nON chunk\nATTRIBUTES category, user_role\nwarehouse = COMPUTE_WH\nTARGET_LAG = '1 hour'\nEMBEDDING_MODEL = 'snowflake-arctic-embed-l-v2.0'\nas (\n    select chunk,\n        chunk_index,\n        relative_path,\n        scoped_file_url,\n        category,\n        user_role\n    from docs_chunks_table\n    where user_role = 'SNOW_ROLE'\n);",
   "execution_count": null
  },
  {
   "cell_type": "markdown",
   "id": "dc720c2a-5728-4118-9c91-3608c8bb62e2",
   "metadata": {
    "name": "cell56",
    "collapsed": false
   },
   "source": "Grant Access to the Cortex Search Services to those roles:"
  },
  {
   "cell_type": "code",
   "id": "3cc9d0f2-f4e1-4435-bc21-d97a2dca354b",
   "metadata": {
    "language": "sql",
    "name": "cell57"
   },
   "outputs": [],
   "source": "USE ROLE ACCOUNTADMIN;\n\n-- BIKE_ROLE:\nGRANT OPERATE ON WAREHOUSE COMPUTE_WH TO ROLE BIKE_ROLE;\nGRANT usage ON WAREHOUSE COMPUTE_WH TO ROLE BIKE_ROLE;\n\nGRANT DATABASE ROLE SNOWFLAKE.CORTEX_USER TO ROLE BIKE_ROLE;\n\nGRANT USAGE ON CORTEX SEARCH SERVICE DOCUMENTATION_TOOL_BIKES TO ROLE BIKE_ROLE;\n\n--- SNOW_ROLE:\nGRANT OPERATE ON WAREHOUSE COMPUTE_WH TO ROLE SNOW_ROLE;\nGRANT usage ON WAREHOUSE COMPUTE_WH TO ROLE SNOW_ROLE;\n\nGRANT DATABASE ROLE SNOWFLAKE.CORTEX_USER TO ROLE SNOW_ROLE;\n\nGRANT USAGE ON CORTEX SEARCH SERVICE DOCUMENTATION_TOOL_SNOW TO ROLE SNOW_ROLE;\n\n-- BIKE_SNOW_ROLE:\n\nGRANT OPERATE ON WAREHOUSE COMPUTE_WH TO ROLE BIKE_SNOW_ROLE;\nGRANT usage ON WAREHOUSE COMPUTE_WH TO ROLE BIKE_SNOW_ROLE;\n\nGRANT DATABASE ROLE SNOWFLAKE.CORTEX_USER TO ROLE BIKE_SNOW_ROLE;\n\nGRANT USAGE ON CORTEX SEARCH SERVICE DOCUMENTATION_TOOL TO ROLE BIKE_SNOW_ROLE;",
   "execution_count": null
  },
  {
   "cell_type": "markdown",
   "id": "0d92e083-2415-4c42-aa87-80187831c8bb",
   "metadata": {
    "collapsed": false,
    "name": "cell19"
   },
   "source": [
    "## Tools for Structured Data (Cortex Analyst)\n",
    "\n",
    "Another Tool that we will be providing to the Cortex Agent will be Cortex Analyst which will provide the capability to extract information from Snowflake Tables.  In the API call we will be providing the location of a Semantic file that contains information about the business terminology to describe the data.\n",
    "\n",
    "First we are going to create some syntethic data about the bikes and ski products that we have.\n",
    "\n",
    "We are going to create the following tables with content:\n",
    "\n",
    "\n",
    "**DIM_ARTICLE – Article/Item Dimension**\n",
    "\n",
    "Purpose: Stores descriptive information about the products (articles) being sold.\n",
    "\n",
    "Key Columns:\n",
    "\n",
    "- ARTICLE_ID (Primary Key): Unique identifier for each article.\n",
    "- ARTICLE_NAME: Full name/description of the product.\n",
    "- ARTICLE_CATEGORY: Product category (e.g., Bike, Skis, Ski Boots).\n",
    "- ARTICLE_BRAND: Manufacturer or brand (e.g., Mondracer, Carver).\n",
    "- ARTICLE_COLOR: Dominant color for the article.\n",
    "- ARTICLE_PRICE: Standard unit price of the article.\n",
    "\n",
    "\n",
    "**DIM_CUSTOMER – Customer Dimension**\n",
    "\n",
    "Purpose: Contains demographic and segmentation info about each customer.\n",
    "\n",
    "Key Columns:\n",
    "\n",
    "- CUSTOMER_ID (Primary Key): Unique identifier for each customer.\n",
    "- CUSTOMER_NAME: Display name for the customer.\n",
    "- CUSTOMER_REGION: Geographic region (e.g., North, South).\n",
    "- CUSTOMER_AGE: Age of the customer.\n",
    "- CUSTOMER_GENDER: Gender (Male/Female).\n",
    "- CUSTOMER_SEGMENT: Marketing segment (e.g., Premium, Regular, Occasional).\n",
    "\n",
    "\n",
    "**FACT_SALES – Sales Transactions Fact Table**\n",
    "\n",
    "Purpose: Captures individual sales transactions (facts) with references to article and customer details.\n",
    "\n",
    "Key Columns:\n",
    "\n",
    "- SALE_ID (Primary Key): Unique identifier for the transaction.\n",
    "- ARTICLE_ID (Foreign Key): Links to DIM_ARTICLE.\n",
    "- CUSTOMER_ID (Foreign Key): Links to DIM_CUSTOMER.\n",
    "- DATE_SALES: Date when the sale occurred.\n",
    "- QUANTITY_SOLD: Number of units sold in the transaction.\n",
    "- TOTAL_PRICE: Total transaction value (unit price × quantity).\n",
    "- SALES_CHANNEL: Sales channel used (e.g., Online, In-Store, Partner).\n",
    "- PROMOTION_APPLIED: Boolean indicating if the sale involved a promotion or discount.\n",
    "\n"
   ]
  },
  {
   "cell_type": "code",
   "execution_count": null,
   "id": "94632a62-3b94-4d3a-9b1e-98aee4da1ac6",
   "metadata": {
    "language": "sql",
    "name": "create_article_table"
   },
   "outputs": [],
   "source": "CREATE OR REPLACE TABLE DIM_ARTICLE (\n    ARTICLE_ID INT PRIMARY KEY,\n    ARTICLE_NAME STRING,\n    ARTICLE_CATEGORY STRING,\n    ARTICLE_BRAND STRING,\n    ARTICLE_COLOR STRING,\n    ARTICLE_PRICE FLOAT\n);\n\n\nINSERT INTO DIM_ARTICLE (ARTICLE_ID, ARTICLE_NAME, ARTICLE_CATEGORY, ARTICLE_BRAND, ARTICLE_COLOR, ARTICLE_PRICE)\nVALUES \n(1, 'Mondracer Infant Bike', 'Bike', 'Mondracer', 'Red', 3000),\n(2, 'Premium Bicycle', 'Bike', 'Veloci', 'Blue', 9000),\n(3, 'Ski Boots TDBootz Special', 'Ski Boots', 'TDBootz', 'Black', 600),\n(4, 'The Ultimate Downhill Bike', 'Bike', 'Graviton', 'Green', 10000),\n(5, 'The Xtreme Road Bike 105 SL', 'Bike', 'Xtreme', 'White', 8500),\n(6, 'Carver Skis', 'Skis', 'Carver', 'Orange', 790),\n(7, 'Outpiste Skis', 'Skis', 'Outpiste', 'Yellow', 900),\n(8, 'Racing Fast Skis', 'Skis', 'RacerX', 'Blue', 950);\n     "
  },
  {
   "cell_type": "code",
   "id": "f2d71d6c-d03d-4901-ab95-89c43151a25e",
   "metadata": {
    "language": "sql",
    "name": "cell33"
   },
   "outputs": [],
   "source": "CREATE OR REPLACE TABLE ROW_ACCESS_MAPPING(\n    ALLOWED_CATEGORY STRING,\n    ALLOWED_ROLE STRING\n);\n\nINSERT INTO ROW_ACCESS_MAPPING (ALLOWED_CATEGORY, ALLOWED_ROLE)\nVALUES\n('Bike', 'BIKE_ROLE'),\n('Ski Boots', 'SNOW_ROLE'),\n('Skis', 'SNOW_ROLE'),\n('Bike', 'BIKE_SNOW_ROLE'),\n('Ski Boots', 'BIKE_SNOW_ROLE'),\n('Skis', 'BIKE_SNOW_ROLE')\n;",
   "execution_count": null
  },
  {
   "cell_type": "code",
   "id": "ecdbdfa3-238d-4b03-8076-7b15cd8d0c18",
   "metadata": {
    "language": "sql",
    "name": "row_access_policy"
   },
   "outputs": [],
   "source": "CREATE OR REPLACE ROW ACCESS POLICY categories_policy\nAS (ARTICLE_CATEGORY varchar) RETURNS BOOLEAN ->\n    'ACCOUNTADMIN' = current_role()\n    or exists(\n        select * from ROW_ACCESS_MAPPING\n            where allowed_role = current_role()\n            and allowed_category = ARTICLE_CATEGORY\n    );",
   "execution_count": null
  },
  {
   "cell_type": "code",
   "id": "b1d1ce0d-6817-4efe-b059-a90e0968ad65",
   "metadata": {
    "language": "sql",
    "name": "cell37"
   },
   "outputs": [],
   "source": "ALTER TABLE DIM_ARTICLE\n  ADD ROW ACCESS POLICY categories_policy\n  ON (ARTICLE_CATEGORY);",
   "execution_count": null
  },
  {
   "cell_type": "code",
   "execution_count": null,
   "id": "1cd839a1-2aba-480e-9a7b-3e95b413ce8a",
   "metadata": {
    "language": "sql",
    "name": "create_customer_table"
   },
   "outputs": [],
   "source": [
    "CREATE OR REPLACE TABLE DIM_CUSTOMER (\n",
    "    CUSTOMER_ID INT PRIMARY KEY,\n",
    "    CUSTOMER_NAME STRING,\n",
    "    CUSTOMER_REGION STRING,\n",
    "    CUSTOMER_AGE INT,\n",
    "    CUSTOMER_GENDER STRING,\n",
    "    CUSTOMER_SEGMENT STRING\n",
    ");\n",
    "\n",
    "INSERT INTO DIM_CUSTOMER (CUSTOMER_ID, CUSTOMER_NAME, CUSTOMER_REGION, CUSTOMER_AGE, CUSTOMER_GENDER, CUSTOMER_SEGMENT)\n",
    "SELECT \n",
    "    SEQ4() AS CUSTOMER_ID,\n",
    "    'Customer ' || SEQ4() AS CUSTOMER_NAME,\n",
    "    CASE MOD(SEQ4(), 5)\n",
    "        WHEN 0 THEN 'North'\n",
    "        WHEN 1 THEN 'South'\n",
    "        WHEN 2 THEN 'East'\n",
    "        WHEN 3 THEN 'West'\n",
    "        ELSE 'Central'\n",
    "    END AS CUSTOMER_REGION,\n",
    "    UNIFORM(18, 65, RANDOM()) AS CUSTOMER_AGE,\n",
    "    CASE MOD(SEQ4(), 2)\n",
    "        WHEN 0 THEN 'Male'\n",
    "        ELSE 'Female'\n",
    "    END AS CUSTOMER_GENDER,\n",
    "    CASE MOD(SEQ4(), 3)\n",
    "        WHEN 0 THEN 'Premium'\n",
    "        WHEN 1 THEN 'Regular'\n",
    "        ELSE 'Occasional'\n",
    "    END AS CUSTOMER_SEGMENT\n",
    "FROM TABLE(GENERATOR(ROWCOUNT => 5000));"
   ]
  },
  {
   "cell_type": "code",
   "execution_count": null,
   "id": "f8b1c58e-8c41-444b-8163-386a74ce5ee2",
   "metadata": {
    "language": "sql",
    "name": "create_sales_table"
   },
   "outputs": [],
   "source": "CREATE OR REPLACE TABLE FACT_SALES (\n    SALE_ID INT PRIMARY KEY,\n    ARTICLE_ID INT,\n    DATE_SALES DATE,\n    CUSTOMER_ID INT,\n    QUANTITY_SOLD INT,\n    TOTAL_PRICE FLOAT,\n    SALES_CHANNEL STRING,\n    PROMOTION_APPLIED BOOLEAN,\n    FOREIGN KEY (ARTICLE_ID) REFERENCES DIM_ARTICLE(ARTICLE_ID),\n    FOREIGN KEY (CUSTOMER_ID) REFERENCES DIM_CUSTOMER(CUSTOMER_ID)\n);\n\n-- Populating Sales Fact Table with new attributes\nINSERT INTO FACT_SALES (SALE_ID, ARTICLE_ID, DATE_SALES, CUSTOMER_ID, QUANTITY_SOLD, TOTAL_PRICE, SALES_CHANNEL, PROMOTION_APPLIED)\nSELECT \n    SEQ4() AS SALE_ID,\n    A.ARTICLE_ID,\n    DATEADD(DAY, UNIFORM(-1095, 0, RANDOM()), CURRENT_DATE) AS DATE_SALES,\n    UNIFORM(1, 5000, RANDOM()) AS CUSTOMER_ID,\n    UNIFORM(1, 10, RANDOM()) AS QUANTITY_SOLD,\n    UNIFORM(1, 10, RANDOM()) * A.ARTICLE_PRICE AS TOTAL_PRICE,\n    CASE MOD(SEQ4(), 3)\n        WHEN 0 THEN 'Online'\n        WHEN 1 THEN 'In-Store'\n        ELSE 'Partner'\n    END AS SALES_CHANNEL,\n    CASE MOD(SEQ4(), 4)\n        WHEN 0 THEN TRUE\n        ELSE FALSE\n    END AS PROMOTION_APPLIED\nFROM DIM_ARTICLE A\nJOIN TABLE(GENERATOR(ROWCOUNT => 10000)) ON TRUE\nORDER BY DATE_SALES;"
  },
  {
   "cell_type": "code",
   "id": "00c30474-f8be-4357-9b5f-08c7d86c98b8",
   "metadata": {
    "language": "sql",
    "name": "cell31"
   },
   "outputs": [],
   "source": "select * from FACT_SALES limit 10;",
   "execution_count": null
  },
  {
   "cell_type": "markdown",
   "id": "358fc57a-8990-4d60-89aa-6618b87426b6",
   "metadata": {
    "name": "cell51",
    "collapsed": false
   },
   "source": "#### RBAC\n\nAssign the specific objects needed by each role"
  },
  {
   "cell_type": "code",
   "id": "4eec761d-51a2-40e7-80d6-ba05be2fe5d9",
   "metadata": {
    "language": "sql",
    "name": "cell17"
   },
   "outputs": [],
   "source": "-- BIKE_ROLE:\n\nGRANT USAGE ON DATABASE CC_CORTEX_AGENTS_RBAC TO ROLE BIKE_ROLE;\nGRANT USAGE ON SCHEMA PUBLIC TO ROLE BIKE_ROLE;\nGRANT SELECT ON TABLE DIM_ARTICLE TO ROLE BIKE_ROLE;\nGRANT SELECT ON TABLE DIM_CUSTOMER TO ROLE BIKE_ROLE;\nGRANT SELECT ON TABLE FACT_SALES TO ROLE BIKE_ROLE;\n\n--- SNOW_ROLE:\n\nGRANT USAGE ON DATABASE CC_CORTEX_AGENTS_RBAC TO ROLE SNOW_ROLE;\nGRANT USAGE ON SCHEMA PUBLIC TO ROLE SNOW_ROLE;\nGRANT SELECT ON TABLE DIM_ARTICLE TO ROLE SNOW_ROLE;\nGRANT SELECT ON TABLE DIM_CUSTOMER TO ROLE SNOW_ROLE;\nGRANT SELECT ON TABLE FACT_SALES TO ROLE SNOW_ROLE;\n\n-- BIKE_SNOW_ROLE:\n\nGRANT USAGE ON DATABASE CC_CORTEX_AGENTS_RBAC TO ROLE BIKE_SNOW_ROLE;\nGRANT USAGE ON SCHEMA PUBLIC TO ROLE BIKE_SNOW_ROLE;\nGRANT SELECT ON TABLE DIM_ARTICLE TO ROLE BIKE_SNOW_ROLE;\nGRANT SELECT ON TABLE DIM_CUSTOMER TO ROLE BIKE_SNOW_ROLE;\nGRANT SELECT ON TABLE FACT_SALES TO ROLE BIKE_SNOW_ROLE;",
   "execution_count": null
  },
  {
   "cell_type": "markdown",
   "id": "a11012d1-7a4b-402e-be41-493f8a5f011d",
   "metadata": {
    "name": "cell49",
    "collapsed": false
   },
   "source": "Test how RBAC works. Different roles will be able to see different analytical data:"
  },
  {
   "cell_type": "code",
   "id": "9cc77377-f30d-4449-bc0d-4b0a87b17732",
   "metadata": {
    "language": "sql",
    "name": "cell38"
   },
   "outputs": [],
   "source": "USE ROLE SNOW_ROLE;\nWITH yearly_sales AS (\n  SELECT\n    f.article_id,\n    SUM(f.total_price) AS total_sales\n  FROM\n    fact_sales AS f\n  WHERE\n    DATE_PART('year', f.date_sales) = 2025\n  GROUP BY\n    f.article_id\n)\nSELECT\n  a.article_name,\n  a.article_category,\n  a.article_brand,\n  ys.total_sales\nFROM\n  yearly_sales AS ys\n  INNER JOIN dim_article AS a ON ys.article_id = a.article_id\nORDER BY\n  ys.total_sales DESC NULLS LAST",
   "execution_count": null
  },
  {
   "cell_type": "code",
   "id": "03134739-0409-4705-b1ec-e1ce8db6723e",
   "metadata": {
    "language": "sql",
    "name": "cell48"
   },
   "outputs": [],
   "source": "USE ROLE BIKE_ROLE;\nWITH yearly_sales AS (\n  SELECT\n    f.article_id,\n    SUM(f.total_price) AS total_sales\n  FROM\n    fact_sales AS f\n  WHERE\n    DATE_PART('year', f.date_sales) = 2025\n  GROUP BY\n    f.article_id\n)\nSELECT\n  a.article_name,\n  a.article_category,\n  a.article_brand,\n  ys.total_sales\nFROM\n  yearly_sales AS ys\n  INNER JOIN dim_article AS a ON ys.article_id = a.article_id\nORDER BY\n  ys.total_sales DESC NULLS LAST",
   "execution_count": null
  },
  {
   "cell_type": "code",
   "id": "67446909-b9c9-428b-9e08-980cadaffab2",
   "metadata": {
    "language": "sql",
    "name": "cell47"
   },
   "outputs": [],
   "source": "use role ACCOUNTADMIN;",
   "execution_count": null
  },
  {
   "cell_type": "markdown",
   "id": "bc088cde-eff3-47cb-b98d-921d79b3d4cc",
   "metadata": {
    "collapsed": false,
    "name": "cell23"
   },
   "source": [
    "### Semantic File\n",
    "\n",
    "We are providing an already created Semantic File for your usage, but please explore it using the Semantic Model Generator. You have an explanation in the mean README of this Hands-On Lab"
   ]
  },
  {
   "cell_type": "code",
   "execution_count": null,
   "id": "0121f643-d9b7-4784-a50f-83edfa02ddce",
   "metadata": {
    "language": "sql",
    "name": "copy_semantic_file"
   },
   "outputs": [],
   "source": "\ncreate or replace stage semantic_files ENCRYPTION = (TYPE = 'SNOWFLAKE_SSE') DIRECTORY = ( ENABLE = true );\n\nCOPY FILES\n    INTO @semantic_files/\n    FROM @CC_CORTEX_AGENTS_RBAC.PUBLIC.git_repo/branches/main/\n    FILES = ('semantic.yaml', 'semantic_search.yaml');"
  },
  {
   "cell_type": "code",
   "id": "bd1c5b26-4940-4ed1-b098-9f1cd35969f7",
   "metadata": {
    "language": "sql",
    "name": "cell29"
   },
   "outputs": [],
   "source": "GRANT READ, WRITE ON STAGE CC_CORTEX_AGENTS_RBAC.PUBLIC.SEMANTIC_FILES TO ROLE BIKE_ROLE;\nGRANT READ, WRITE ON STAGE CC_CORTEX_AGENTS_RBAC.PUBLIC.SEMANTIC_FILES TO ROLE SNOW_ROLE;\nGRANT READ, WRITE ON STAGE CC_CORTEX_AGENTS_RBAC.PUBLIC.SEMANTIC_FILES TO ROLE BIKE_SNOW_ROLE;\n",
   "execution_count": null
  },
  {
   "cell_type": "markdown",
   "id": "1df45909-1869-4137-8493-b610a7f8be3a",
   "metadata": {
    "name": "cell44",
    "collapsed": false
   },
   "source": "## Snowflake Intelligence Setup\n\nGrant usage on SNOWLFLAKE_INTELLIGENCE to the roles we have created so they will be able to use the Agents that we will be creating with the tools we have just setup in this notebook"
  },
  {
   "cell_type": "code",
   "id": "12573721-e231-42ad-aacb-c48b57a7ece7",
   "metadata": {
    "language": "sql",
    "name": "cell32"
   },
   "outputs": [],
   "source": "-- Create the database to store the agents\n\ncreate database if not exists snowflake_intelligence;\ncreate schema if not exists snowflake_intelligence.agents;",
   "execution_count": null
  },
  {
   "cell_type": "code",
   "id": "40a85365-27bd-4ad5-8a6e-71332d66c076",
   "metadata": {
    "language": "sql",
    "name": "snowflake_intelligence_permissions"
   },
   "outputs": [],
   "source": "\ngrant usage on database snowflake_intelligence to role SNOW_ROLE;\ngrant usage on database snowflake_intelligence to role BIKE_ROLE;\ngrant usage on database snowflake_intelligence to role BIKE_SNOW_ROLE;\n\ngrant usage on schema snowflake_intelligence.agents to role SNOW_ROLE;\ngrant usage on schema snowflake_intelligence.agents to role BIKE_ROLE;\ngrant usage on schema snowflake_intelligence.agents to role BIKE_SNOW_ROLE;\n\n",
   "execution_count": null
  },
  {
   "cell_type": "markdown",
   "id": "0d09d287-24c7-4691-ab2b-4a7a29f523e7",
   "metadata": {
    "collapsed": false,
    "name": "cell1"
   },
   "source": [
    "## Improving Tool Usage with Dynamic Literal Retrieval\n",
    "\n",
    "Thank you to the Cortex Analyst integration with Cortex Search, we can improve the retrieval of all possible values of a column. Instead of listing all the possible values in the semantic file, we can use Cortex Search Integration. \n",
    "\n",
    "Let's use it as example for the ARTICLE NAMES, so we do not have to list all.\n",
    "\n"
   ]
  },
  {
   "cell_type": "code",
   "execution_count": null,
   "id": "3313c2a7-09d6-4850-8318-80dca424ffab",
   "metadata": {
    "language": "sql",
    "name": "cell2"
   },
   "outputs": [],
   "source": "USE DATABASE CC_CORTEX_AGENTS_RBAC;\n\nCREATE OR REPLACE TABLE ARTICLE_NAMES AS\n  SELECT\n      DISTINCT ARTICLE_NAME AS ARTICLE_NAME\n  FROM DIM_ARTICLE;\n\nCREATE OR REPLACE CORTEX SEARCH SERVICE _ARTICLE_NAME_SEARCH\n  ON ARTICLE_NAME\n  WAREHOUSE = COMPUTE_WH\n  TARGET_LAG = '1 day'\n  EMBEDDING_MODEL = 'snowflake-arctic-embed-l-v2.0'\nAS (\n  SELECT\n       ARTICLE_NAME\n  FROM ARTICLE_NAMES\n);"
  },
  {
   "cell_type": "code",
   "id": "5585e2b4-3569-4fc2-a81a-61c4428936fe",
   "metadata": {
    "language": "sql",
    "name": "cell28"
   },
   "outputs": [],
   "source": "GRANT USAGE ON CORTEX SEARCH SERVICE _ARTICLE_NAME_SEARCH TO ROLE SNOW_ROLE;\nGRANT USAGE ON CORTEX SEARCH SERVICE _ARTICLE_NAME_SEARCH TO ROLE BIKE_ROLE;\nGRANT USAGE ON CORTEX SEARCH SERVICE _ARTICLE_NAME_SEARCH TO ROLE BIKE_SNOW_ROLE;\n",
   "execution_count": null
  }
 ]
}